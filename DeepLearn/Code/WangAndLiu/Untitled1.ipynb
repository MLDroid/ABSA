{
 "cells": [
  {
   "cell_type": "code",
   "execution_count": 2,
   "metadata": {
    "collapsed": false
   },
   "outputs": [],
   "source": [
    "import numpy as np\n"
   ]
  },
  {
   "cell_type": "code",
   "execution_count": 5,
   "metadata": {
    "collapsed": true
   },
   "outputs": [],
   "source": [
    "UnScaledX = np.loadtxt ('UnscaledX.txt')\n",
    "ScaledX = np.loadtxt ('ScaledX.txt')\n"
   ]
  },
  {
   "cell_type": "code",
   "execution_count": 3,
   "metadata": {
    "collapsed": true
   },
   "outputs": [],
   "source": [
    "Y = [l.strip() for l in open ('Y.txt').xreadlines()]"
   ]
  },
  {
   "cell_type": "code",
   "execution_count": 9,
   "metadata": {
    "collapsed": false
   },
   "outputs": [
    {
     "name": "stdout",
     "output_type": "stream",
     "text": [
      "(3698, 20700)\n",
      "(3698, 20700)\n"
     ]
    },
    {
     "data": {
      "text/plain": [
       "3698"
      ]
     },
     "execution_count": 9,
     "metadata": {},
     "output_type": "execute_result"
    }
   ],
   "source": [
    "print ScaledX.shape\n",
    "print UnScaledX.shape\n",
    "len(Y)"
   ]
  },
  {
   "cell_type": "code",
   "execution_count": 10,
   "metadata": {
    "collapsed": true
   },
   "outputs": [],
   "source": [
    "Z = list(zip(ScaledX, Y))"
   ]
  },
  {
   "cell_type": "code",
   "execution_count": 14,
   "metadata": {
    "collapsed": false
   },
   "outputs": [],
   "source": [
    "from random import shuffle\n",
    "shuffle(Z)\n",
    "X, Y = zip(*Z)"
   ]
  },
  {
   "cell_type": "code",
   "execution_count": 15,
   "metadata": {
    "collapsed": false
   },
   "outputs": [
    {
     "name": "stdout",
     "output_type": "stream",
     "text": [
      "2957 -741\n"
     ]
    }
   ],
   "source": [
    "TrCutOff = int(len(Y)*0.8-1)\n",
    "TeCutoff = TrCutOff - len(Y)\n",
    "print TrCutOff, TeCutoff"
   ]
  },
  {
   "cell_type": "code",
   "execution_count": 101,
   "metadata": {
    "collapsed": false
   },
   "outputs": [
    {
     "name": "stdout",
     "output_type": "stream",
     "text": [
      "(2957, 20700)\n",
      "(2957,)\n",
      "(741, 20700)\n",
      "(741,)\n"
     ]
    }
   ],
   "source": [
    "X_train = np.array(X[:TrCutOff])\n",
    "Y_train =  np.array(Y[:TrCutOff])\n",
    "X_test =  np.array(X[TeCutoff:])\n",
    "Y_test =  np.array(Y[TeCutoff:])\n",
    "\n",
    "print X_train.shape\n",
    "print Y_train.shape\n",
    "print X_test.shape\n",
    "print Y_test.shape"
   ]
  },
  {
   "cell_type": "code",
   "execution_count": 102,
   "metadata": {
    "collapsed": false
   },
   "outputs": [],
   "source": [
    "MaxFeatsWithPadd = 69\n",
    "WordVecDims = 300\n"
   ]
  },
  {
   "cell_type": "code",
   "execution_count": 103,
   "metadata": {
    "collapsed": false
   },
   "outputs": [
    {
     "name": "stdout",
     "output_type": "stream",
     "text": [
      "('X_train shape:', (2957, 1, 69, 300))\n",
      "('X_test shape:', (741, 1, 69, 300))\n",
      "(2957, 'train samples')\n",
      "(741, 'test samples')\n"
     ]
    }
   ],
   "source": [
    "from collections import Counter\n",
    "from keras.utils import np_utils\n",
    "X_train = X_train.reshape(X_train.shape[0],1, MaxFeatsWithPadd, WordVecDims)\n",
    "X_test = X_test.reshape(X_test.shape[0],1, MaxFeatsWithPadd, WordVecDims)\n",
    "X_train = X_train.astype('float32')\n",
    "X_test = X_test.astype('float32')\n",
    "print('X_train shape:', X_train.shape)\n",
    "print('X_test shape:', X_test.shape)\n",
    "print(X_train.shape[0], 'train samples')\n",
    "print(X_test.shape[0], 'test samples')"
   ]
  },
  {
   "cell_type": "code",
   "execution_count": 104,
   "metadata": {
    "collapsed": false
   },
   "outputs": [],
   "source": [
    "def MakeYAsNum (Y):\n",
    "    Ytmp = []\n",
    "    for y in Y:\n",
    "        if 'positive' == y:\n",
    "            Ytmp.append (1)\n",
    "        elif 'negative' == y:\n",
    "            Ytmp.append(2)\n",
    "        elif 'conflict' == y:\n",
    "            Ytmp.append(3)\n",
    "        else:\n",
    "            Ytmp.append(0)\n",
    "    return Ytmp"
   ]
  },
  {
   "cell_type": "code",
   "execution_count": 105,
   "metadata": {
    "collapsed": false
   },
   "outputs": [],
   "source": [
    "Y_train = MakeYAsNum(Y_train)\n",
    "Y_test = MakeYAsNum(Y_test)"
   ]
  },
  {
   "cell_type": "code",
   "execution_count": 106,
   "metadata": {
    "collapsed": false
   },
   "outputs": [
    {
     "name": "stdout",
     "output_type": "stream",
     "text": [
      "Counter({1: 1735, 2: 639, 0: 522, 3: 61})\n",
      "Counter({1: 428, 2: 168, 0: 115, 3: 30})\n"
     ]
    }
   ],
   "source": [
    "print(Counter(Y_train))\n",
    "print(Counter(Y_test))"
   ]
  },
  {
   "cell_type": "code",
   "execution_count": 107,
   "metadata": {
    "collapsed": false
   },
   "outputs": [],
   "source": [
    "Y_train = np_utils.to_categorical(Y_train, nb_classes)\n",
    "Y_test = np_utils.to_categorical(Y_test, nb_classes)"
   ]
  },
  {
   "cell_type": "code",
   "execution_count": 108,
   "metadata": {
    "collapsed": false
   },
   "outputs": [],
   "source": [
    "from keras.models import Sequential\n",
    "from keras.layers.core import Dense, Dropout, Activation, Flatten\n",
    "from keras.layers.convolutional import Convolution2D, MaxPooling2D, MaxPooling1D, AveragePooling2D\n",
    "from keras.utils import np_utils\n",
    "import keras"
   ]
  },
  {
   "cell_type": "code",
   "execution_count": 123,
   "metadata": {
    "collapsed": false
   },
   "outputs": [],
   "source": [
    "nb_filters = 100\n",
    "nb_pool = 3\n",
    "model = Sequential()\n",
    "\n",
    "model.add(Convolution2D(nb_filters, 3, 3,\n",
    "                        border_mode='valid',\n",
    "                        input_shape=(1, 69, 300)))\n",
    "model.add(Activation('relu'))\n",
    "#model.add(Convolution2D(nb_filters, 3, 3))\n",
    "#model.add(Activation('relu'))\n",
    "model.add(MaxPooling2D(pool_size=(2, 2)))\n",
    "model.add(Dropout(0.25))\n",
    "\n",
    "model.add(Flatten())\n",
    "model.add(Dense(128))\n",
    "model.add(Activation('relu'))\n",
    "model.add(Dropout(0.5))\n",
    "model.add(Dense(nb_classes))\n",
    "model.add(Activation('softmax'))\n",
    "model.compile(loss='categorical_crossentropy',\n",
    "              optimizer='adadelta',\n",
    "              metrics=['accuracy'])"
   ]
  },
  {
   "cell_type": "code",
   "execution_count": 124,
   "metadata": {
    "collapsed": false
   },
   "outputs": [
    {
     "name": "stderr",
     "output_type": "stream",
     "text": [
      "INFO (theano.gof.compilelock): Refreshing lock /home/annamalai/.theano/compiledir_Linux-3.13--generic-x86_64-with-Ubuntu-12.04-precise-x86_64-2.7.3-64/lock_dir/lock\n"
     ]
    },
    {
     "name": "stdout",
     "output_type": "stream",
     "text": [
      "Train on 2957 samples, validate on 741 samples\n",
      "Epoch 1/5\n",
      "2957/2957 [==============================] - 767s - loss: 1.0528 - acc: 0.5742 - val_loss: 1.0148 - val_acc: 0.5870\n",
      "Epoch 2/5\n",
      "2957/2957 [==============================] - 774s - loss: 0.9402 - acc: 0.6101 - val_loss: 0.9782 - val_acc: 0.6046\n",
      "Epoch 3/5\n",
      "2957/2957 [==============================] - 798s - loss: 0.8459 - acc: 0.6581 - val_loss: 0.8702 - val_acc: 0.6437\n",
      "Epoch 4/5\n",
      "2957/2957 [==============================] - 799s - loss: 0.7330 - acc: 0.7109 - val_loss: 0.8445 - val_acc: 0.6748\n",
      "Epoch 5/5\n",
      "2957/2957 [==============================] - 1180s - loss: 0.6607 - acc: 0.7504 - val_loss: 0.8142 - val_acc: 0.6883\n"
     ]
    },
    {
     "ename": "NameError",
     "evalue": "name 'time' is not defined",
     "output_type": "error",
     "traceback": [
      "\u001b[1;31m---------------------------------------------------------------------------\u001b[0m",
      "\u001b[1;31mNameError\u001b[0m                                 Traceback (most recent call last)",
      "\u001b[1;32m<ipython-input-124-4295289060f0>\u001b[0m in \u001b[0;36m<module>\u001b[1;34m()\u001b[0m\n\u001b[0;32m      1\u001b[0m model.fit(X_train, Y_train, batch_size=10, nb_epoch=5,\n\u001b[0;32m      2\u001b[0m           verbose=1, validation_data=(X_test, Y_test))\n\u001b[1;32m----> 3\u001b[1;33m \u001b[0mT0\u001b[0m \u001b[1;33m=\u001b[0m \u001b[0mtime\u001b[0m\u001b[1;33m.\u001b[0m\u001b[0mtime\u001b[0m\u001b[1;33m(\u001b[0m\u001b[1;33m)\u001b[0m\u001b[1;33m\u001b[0m\u001b[0m\n\u001b[0m\u001b[0;32m      4\u001b[0m \u001b[0mscore\u001b[0m \u001b[1;33m=\u001b[0m \u001b[0mmodel\u001b[0m\u001b[1;33m.\u001b[0m\u001b[0mevaluate\u001b[0m\u001b[1;33m(\u001b[0m\u001b[0mX_test\u001b[0m\u001b[1;33m,\u001b[0m \u001b[0mY_test\u001b[0m\u001b[1;33m,\u001b[0m \u001b[0mverbose\u001b[0m\u001b[1;33m=\u001b[0m\u001b[1;36m1\u001b[0m\u001b[1;33m)\u001b[0m\u001b[1;33m\u001b[0m\u001b[0m\n\u001b[0;32m      5\u001b[0m \u001b[1;32mprint\u001b[0m \u001b[1;33m(\u001b[0m\u001b[0mtime\u001b[0m\u001b[1;33m.\u001b[0m\u001b[0mtime\u001b[0m\u001b[1;33m(\u001b[0m\u001b[1;33m)\u001b[0m \u001b[1;33m-\u001b[0m \u001b[0mT0\u001b[0m\u001b[1;33m)\u001b[0m\u001b[1;33m\u001b[0m\u001b[0m\n",
      "\u001b[1;31mNameError\u001b[0m: name 'time' is not defined"
     ]
    }
   ],
   "source": [
    "model.fit(X_train, Y_train, batch_size=10, nb_epoch=5,\n",
    "          verbose=1, validation_data=(X_test, Y_test))\n",
    "T0 = time.time()\n",
    "score = model.evaluate(X_test, Y_test, verbose=1)\n",
    "print (time.time() - T0)"
   ]
  },
  {
   "cell_type": "code",
   "execution_count": 59,
   "metadata": {
    "collapsed": false
   },
   "outputs": [
    {
     "name": "stdout",
     "output_type": "stream",
     "text": [
      "[<keras.layers.convolutional.Convolution2D object at 0xacad250>, <keras.layers.core.Activation object at 0xacad2d0>, <keras.layers.core.Dropout object at 0x651c73d0>, <keras.layers.core.Flatten object at 0x6071c9d0>, <keras.layers.core.Dense object at 0x5ec22a90>, <keras.layers.core.Activation object at 0x58387290>, <keras.layers.core.Dropout object at 0x58387950>]\n"
     ]
    }
   ],
   "source": [
    "print model.layers"
   ]
  }
 ],
 "metadata": {
  "kernelspec": {
   "display_name": "Python 2",
   "language": "python",
   "name": "python2"
  },
  "language_info": {
   "codemirror_mode": {
    "name": "ipython",
    "version": 2
   },
   "file_extension": ".py",
   "mimetype": "text/x-python",
   "name": "python",
   "nbconvert_exporter": "python",
   "pygments_lexer": "ipython2",
   "version": "2.7.3"
  }
 },
 "nbformat": 4,
 "nbformat_minor": 0
}
